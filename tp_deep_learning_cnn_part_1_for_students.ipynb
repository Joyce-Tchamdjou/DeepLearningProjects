{
  "nbformat": 4,
  "nbformat_minor": 0,
  "metadata": {
    "kernelspec": {
      "display_name": "Python 3",
      "language": "python",
      "name": "python3"
    },
    "language_info": {
      "codemirror_mode": {
        "name": "ipython",
        "version": 3
      },
      "file_extension": ".py",
      "mimetype": "text/x-python",
      "name": "python",
      "nbconvert_exporter": "python",
      "pygments_lexer": "ipython3",
      "version": "3.7.9"
    },
    "colab": {
      "name": "tp_deep_learning_cnn_part_1_for_students.ipynb",
      "provenance": [],
      "collapsed_sections": []
    },
    "accelerator": "GPU"
  },
  "cells": [
    {
      "cell_type": "markdown",
      "metadata": {
        "id": "7PKVAcrTVdcb"
      },
      "source": [
        "# TP CNN, part 1 : Coding Convolutional Neural Networks in tensorflow/keras\n",
        "\n",
        "Author : Alasdair Newson\n",
        "\n",
        "alasdair.newson@telecom-paris.fr\n",
        "\n",
        "## Objective:\n",
        "\n",
        "We want to implement a Convolutional Neural Network (CNN) to do image classification. For this we will use two well-known image datasets :\n",
        "\n",
        "###MNIST\n",
        "\n",
        "Mnist is a dataset of 60,000 28$\\times$28 images of handwritten digits.\n",
        "\n",
        "### CIFAR 10\n",
        "\n",
        "CIFAR-10 dataset https://www.cs.toronto.edu/~kriz/cifar.html.\n",
        "\n",
        "The CIFAR-10 dataset consists of 60000 32x32 colour images in 10 classes, with 6000 images per class. There are 50000 training images and 10000 test images.\n",
        "\n",
        "### Your task:\n",
        "You need to add the missing parts in the code (parts between # --- START CODE HERE and # --- END CODE HERE or # FILL IN CODE)"
      ]
    },
    {
      "cell_type": "markdown",
      "metadata": {
        "id": "mIMQxnyAVdcb"
      },
      "source": [
        "# Load packages"
      ]
    },
    {
      "cell_type": "code",
      "metadata": {
        "id": "4r-L5nzGVdcc",
        "colab": {
          "base_uri": "https://localhost:8080/"
        },
        "outputId": "7d9a71a1-2864-4141-f1f5-6c29851d4d71"
      },
      "source": [
        "%matplotlib inline\n",
        "import matplotlib.pyplot as plt\n",
        "import numpy as np\n",
        "\n",
        "import tensorflow as tf\n",
        "from tensorflow.keras.utils import to_categorical\n",
        "\n",
        "from tensorflow.keras.models import Sequential, Model\n",
        "from tensorflow.keras.layers import Dense, Dropout, Activation, Flatten, Input\n",
        "from tensorflow.keras.layers import Conv2D, MaxPooling2D\n",
        "from tensorflow.keras import optimizers\n",
        "print(tf.keras.__version__)\n"
      ],
      "execution_count": 2,
      "outputs": [
        {
          "output_type": "stream",
          "name": "stdout",
          "text": [
            "2.6.0\n"
          ]
        }
      ]
    },
    {
      "cell_type": "markdown",
      "metadata": {
        "id": "BPkKAA3NVdcf"
      },
      "source": [
        "## Import data\n",
        "\n",
        "We are going to start with the mnist dataset. The mnist dataset has 10 classes which go from \"0\" to \"9\" (all the digits). We are going to truncate the number of elements in the database for faster training. Note that \"scalar\" means that the class is encoded as a scalar, rather than as a one-hot vector (we do the conversion afterwards)."
      ]
    },
    {
      "cell_type": "code",
      "metadata": {
        "id": "pdsR8TgupAmR",
        "colab": {
          "base_uri": "https://localhost:8080/"
        },
        "outputId": "fcc6e9da-eaf7-4ed7-89b0-bd87cf5176f2"
      },
      "source": [
        "\n",
        "from keras.datasets import mnist\n",
        "(X_train, Y_train_scalar), (X_test, Y_test_scalar) = mnist.load_data()\n",
        "\n",
        "n_max = 5000\n",
        "X_train = X_train[0:n_max,:,:]\n",
        "X_test = X_test[0:n_max,:,:]\n",
        "Y_train_scalar = Y_train_scalar[0:n_max]\n",
        "Y_test_scalar = Y_test_scalar[0:n_max]\n",
        "\n",
        "mnist_label_list = [ '0', '1','2','3','4','5','6','7','8','9']\n",
        "\n",
        "print(X_train.shape)\n",
        "print(X_test.shape)\n",
        "print(np.unique(Y_train_scalar))"
      ],
      "execution_count": 3,
      "outputs": [
        {
          "output_type": "stream",
          "name": "stdout",
          "text": [
            "(5000, 28, 28)\n",
            "(5000, 28, 28)\n",
            "[0 1 2 3 4 5 6 7 8 9]\n"
          ]
        }
      ]
    },
    {
      "cell_type": "markdown",
      "metadata": {
        "id": "L7pZ6hCQp41Y"
      },
      "source": [
        "Now, let's look at some of the data :"
      ]
    },
    {
      "cell_type": "code",
      "metadata": {
        "id": "_fe0vyM0pYe7",
        "colab": {
          "base_uri": "https://localhost:8080/",
          "height": 338
        },
        "outputId": "39f8ddda-207a-42c0-947e-6bcc947a7699"
      },
      "source": [
        "plt.figure(figsize=(10, 6))\n",
        "for idx in range(0,10):\n",
        "    plt.subplot(2, 5, idx+1)\n",
        "    rand_ind = np.random.randint(0,X_train.shape[0])\n",
        "    plt.imshow(X_test[rand_ind,:,:],cmap='gray')\n",
        "    plt.title(mnist_label_list[int(Y_test_scalar[rand_ind])])\n"
      ],
      "execution_count": 4,
      "outputs": [
        {
          "output_type": "display_data",
          "data": {
            "image/png": "[encoded data removed]",
            "text/plain": [
              "<Figure size 720x432 with 10 Axes>"
            ]
          },
          "metadata": {
            "needs_background": "light"
          }
        }
      ]
    },
    {
      "cell_type": "markdown",
      "metadata": {
        "id": "NRIydd6-qOVR"
      },
      "source": [
        "Now, we carry out some data pre-processing. In particular, we normalise the data to the range $[0,1]$ and convert the labels to a one-hot encoding :"
      ]
    },
    {
      "cell_type": "code",
      "metadata": {
        "id": "112VYdfgrHDl",
        "colab": {
          "base_uri": "https://localhost:8080/"
        },
        "outputId": "0ddbed09-4171-4a79-9af0-6630515813e2"
      },
      "source": [
        "# input image dimensions (mnist data is grey-level)\n",
        "img_rows, img_cols, nb_channels = X_train.shape[1], X_train.shape[2], 1\n",
        "\n",
        "# In case depth is 1 (black and white pictures) -> reshape to proper format\n",
        "X_train = X_train.reshape(X_train.shape[0], img_rows, img_cols, nb_channels)\n",
        "X_test = X_test.reshape(X_test.shape[0], img_rows, img_cols, nb_channels)\n",
        "\n",
        "X_train = X_train.astype('float32')\n",
        "X_test = X_test.astype('float32')\n",
        "X_train /= 255\n",
        "X_test /= 255\n",
        "\n",
        "Y_train = to_categorical(Y_train_scalar)\n",
        "Y_test = to_categorical(Y_test_scalar)\n",
        "\n",
        "# number of classes\n",
        "nb_classes = Y_train.shape[1]\n",
        "\n",
        "print('X_train shape:', X_train.shape)\n",
        "#print('y_train shape:', y_train.shape)\n",
        "print('Y_train shape:', Y_train.shape)\n",
        "print('There are {} train data'.format(X_train.shape[0]))\n",
        "print('There are {} test data'.format(X_test.shape[0]))\n",
        "print(img_rows, img_cols, nb_channels)\n"
      ],
      "execution_count": 5,
      "outputs": [
        {
          "output_type": "stream",
          "name": "stdout",
          "text": [
            "X_train shape: (5000, 28, 28, 1)\n",
            "Y_train shape: (5000, 10)\n",
            "There are 5000 train data\n",
            "There are 5000 test data\n",
            "28 28 1\n"
          ]
        }
      ]
    },
    {
      "cell_type": "markdown",
      "metadata": {
        "id": "slZYGH1ysFwj"
      },
      "source": [
        "## Defining the model for MNIST\n",
        "\n",
        "We will now define the simple CNN described below, for use with MNIST. The input of the CNN is a set of (28,28,1) image tensors. We apply :\n",
        "\n",
        "    - a Convolutional layer of 32 filters of shape (3,3), with stride (1,1) and padding='same'\n",
        "    - a ReLu activation function\n",
        "    \n",
        "    - a Convolutional layer of 32 filters of shape (3,3), with stride (1,1) and padding='same'\n",
        "    - a ReLu activation function\n",
        "    - a Max Pooling Layer of shape (2,2) and stride (2,2) (i.e. we reduce by two the size in each dimension)\n",
        "    \n",
        "    - We then Flatten the data (reduce them to a vector in order to be able to apply a Fully-Connected layer to it)\n",
        "    - A softmax activation function which outputs are the $P(y_c | X)$ (multi-class problem)\n",
        "\n",
        "We define the parameters of the model :"
      ]
    },
    {
      "cell_type": "code",
      "metadata": {
        "id": "J1MPFemUrDg4"
      },
      "source": [
        "learning_rate = 0.01\n",
        "n_epochs = 10\n",
        "batch_size = 64\n",
        "\n",
        "# number of convolutional filters to use\n",
        "nb_filters = 32\n",
        "# convolution kernel size\n",
        "kernel_size = (3, 3)\n",
        "# size of pooling area for max pooling\n",
        "pool_size = (2, 2)\n",
        "\n",
        "# --- Size of the successive layers\n",
        "n_h_0 = nb_channels  # number of input channels\n",
        "n_h_1 = nb_filters\n",
        "n_h_2 = nb_filters"
      ],
      "execution_count": 7,
      "outputs": []
    },
    {
      "cell_type": "markdown",
      "metadata": {
        "id": "bvMx580MsAFF"
      },
      "source": [
        "## Creating the CNN model using the Sequential API\n",
        "\n",
        "Tensorflow has a simple way of adding layers to create a neural network. First, you can indicate to Tensorflow that the model is 'sequential', that is to say, a straight-forward CNN. For this, you can use the following function :\n",
        "- ```model = Sequential()```\n",
        "\n",
        "After this, you can add layers with the function.\n",
        "\n",
        "- ```model.add()```\n",
        "\n",
        "You can then use the ```Conv2D```, ```Activation```, ```MaxPooling2D```, ```Flatten``` and ```Dense``` (fully connected) functions to specify different layer types. Note that in the case of this approach, you will have to specify the input image size in the first layer of the network. So, for example, if the first layer is convolutional :\n",
        "\n",
        "- model = Sequential()\n",
        "- model.add(Conv2D(nb_filters, kernel_size, input_shape=input_shape, name='Conv1'))\n",
        "\n",
        "\n",
        "## Creating the CNN model using the standard API\n",
        "\n",
        "Otherwise, another approach to creating the model is to explicitly create the input variable, and just cascade the different functions, as in Tensorflow. So, for the same example, we would have :\n",
        "\n",
        "- input = Input(shape=(img_rows,img_cols,nb_channels))\n",
        "- output = Conv2D(input_shape=self.img_shape,filters=nb_filters,kernel_size=kernel_size)(input)\n",
        "- model = Model(input, output)\n",
        "\n",
        "Create your CNN now with the network parameters specified above :"
      ]
    },
    {
      "cell_type": "code",
      "metadata": {
        "id": "nzWrY8nrsx62"
      },
      "source": [
        "# --- START CODE HERE\n",
        "\n",
        "model = Sequential()\n",
        "model.add(Conv2D(nb_filters, kernel_size, strides=(1,1), padding='same', activation='relu'))\n",
        "model.add(Conv2D(nb_filters, kernel_size, strides=(1,1), padding='same', activation='relu'))\n",
        "model.add(MaxPooling2D(pool_size, strides=(2,2)))\n",
        "model.add(Flatten())\n",
        "model.add(Dense(10, activation='softmax')) #units correspond à la dimension de sortie ici 10 pour 10 classes\n",
        "\n",
        "\n",
        "# --- END CODE HERE"
      ],
      "execution_count": 16,
      "outputs": []
    },
    {
      "cell_type": "markdown",
      "metadata": {
        "id": "S-Z5rywAtaWx"
      },
      "source": [
        "Now, you need to :\n",
        "\n",
        "- compile\n",
        "- display (```summary```)\n",
        "- train the model\n",
        "\n",
        "and show the test accuracy once the training is finished. You should use the ```optimizers.Adam``` optimiser, and the correct loss (which one ?)."
      ]
    },
    {
      "cell_type": "code",
      "metadata": {
        "id": "q61ACIG2thbI",
        "colab": {
          "base_uri": "https://localhost:8080/"
        },
        "outputId": "9a77fd78-3e1f-4077-b8c8-34029ec4f91c"
      },
      "source": [
        "# compile, train and evaluate model\n",
        "# BEGIN STUDENT CODE\n",
        "\n",
        "model.compile(optimizer=optimizers.Adam(learning_rate), loss=tf.keras.losses.categorical_crossentropy, metrics=['accuracy'])\n",
        "model.build(input_shape=X_train.shape)\n",
        "print(model.summary())\n",
        "model.fit(X_train, Y_train, batch_size, epochs=10, validation_data=(X_test, Y_test))\n",
        "# END STUDENT CODE\n",
        "\n",
        "score = model.evaluate(X_test, Y_test, verbose=False)\n",
        "print('Test loss:', score[0])\n",
        "print('Test accuracy:', score[1])"
      ],
      "execution_count": 21,
      "outputs": [
        {
          "output_type": "stream",
          "name": "stdout",
          "text": [
            "Model: \"sequential_7\"\n",
            "_________________________________________________________________\n",
            "Layer (type)                 Output Shape              Param #   \n",
            "=================================================================\n",
            "conv2d_10 (Conv2D)           (None, 28, 28, 32)        320       \n",
            "_________________________________________________________________\n",
            "conv2d_11 (Conv2D)           (None, 28, 28, 32)        9248      \n",
            "_________________________________________________________________\n",
            "max_pooling2d_4 (MaxPooling2 (None, 14, 14, 32)        0         \n",
            "_________________________________________________________________\n",
            "flatten_4 (Flatten)          (None, 6272)              0         \n",
            "_________________________________________________________________\n",
            "dense_1 (Dense)              (None, 10)                62730     \n",
            "=================================================================\n",
            "Total params: 72,298\n",
            "Trainable params: 72,298\n",
            "Non-trainable params: 0\n",
            "_________________________________________________________________\n",
            "None\n",
            "Epoch 1/10\n",
            "79/79 [==============================] - 2s 15ms/step - loss: 0.0198 - accuracy: 0.9930 - val_loss: 0.2452 - val_accuracy: 0.9530\n",
            "Epoch 2/10\n",
            "79/79 [==============================] - 1s 12ms/step - loss: 0.0188 - accuracy: 0.9944 - val_loss: 0.3080 - val_accuracy: 0.9520\n",
            "Epoch 3/10\n",
            "79/79 [==============================] - 1s 12ms/step - loss: 0.0126 - accuracy: 0.9960 - val_loss: 0.3375 - val_accuracy: 0.9504\n",
            "Epoch 4/10\n",
            "79/79 [==============================] - 1s 11ms/step - loss: 0.0178 - accuracy: 0.9948 - val_loss: 0.4093 - val_accuracy: 0.9468\n",
            "Epoch 5/10\n",
            "79/79 [==============================] - 1s 11ms/step - loss: 0.0275 - accuracy: 0.9928 - val_loss: 0.2629 - val_accuracy: 0.9556\n",
            "Epoch 6/10\n",
            "79/79 [==============================] - 1s 11ms/step - loss: 0.0099 - accuracy: 0.9968 - val_loss: 0.3398 - val_accuracy: 0.9440\n",
            "Epoch 7/10\n",
            "79/79 [==============================] - 1s 11ms/step - loss: 0.0091 - accuracy: 0.9966 - val_loss: 0.3900 - val_accuracy: 0.9452\n",
            "Epoch 8/10\n",
            "79/79 [==============================] - 1s 11ms/step - loss: 0.0064 - accuracy: 0.9980 - val_loss: 0.3599 - val_accuracy: 0.9538\n",
            "Epoch 9/10\n",
            "79/79 [==============================] - 1s 11ms/step - loss: 0.0117 - accuracy: 0.9964 - val_loss: 0.4061 - val_accuracy: 0.9456\n",
            "Epoch 10/10\n",
            "79/79 [==============================] - 1s 11ms/step - loss: 0.0216 - accuracy: 0.9938 - val_loss: 0.3437 - val_accuracy: 0.9506\n",
            "Test loss: 0.34374094009399414\n",
            "Test accuracy: 0.9506000280380249\n"
          ]
        }
      ]
    },
    {
      "cell_type": "markdown",
      "metadata": {
        "id": "v_8TwXAAvAE6"
      },
      "source": [
        "You should achieve a test accuracy of around 0.94 within 10 epochs.\n",
        "\n",
        "This is pretty good ! However, don't get too excited just yet. Unfortunately, one of the golden rules of deep learning is that everything works with mnist (unless you have gotten the model really wrong). So often, mnist is just used as a sanity check. Let's now look at a more complex dataset : CIFAR10"
      ]
    },
    {
      "cell_type": "markdown",
      "metadata": {
        "id": "HMXvoBa2xsZe"
      },
      "source": [
        "## 2/ CNN on CIFAR10\n",
        "\n",
        "Cifar10 has ten categories, which are much more complex than the digits in mnist. In this case, we are going to add more layers to increase the capacity of the network. We create the following network :\n",
        "\n",
        "    - a Convolutional layer of 32 filters of shape (3,3), with stride (1,1) and padding='same'\n",
        "    - a ReLu activation function\n",
        "    \n",
        "    - a Convolutional layer of 32 filters of shape (3,3), with stride (1,1) and padding='same'\n",
        "    - a ReLu activation function\n",
        "    - a Max Pooling Layer of shape (2,2) and stride (2,2) (i.e. we reduce by two the size in each dimension)\n",
        "    \n",
        "    - a Convolutional layer of 32 filters of shape (3,3), with stride (1,1) and padding='same'\n",
        "    - a ReLu activation function\n",
        "    - a Max Pooling Layer of shape (2,2) and stride (2,2) (i.e. we reduce by two the size in each dimension)\n",
        "    \n",
        "    - We then Flatten the data (reduce them to a vector in order to be able to apply a Fully-Connected layer to it)\n",
        "    - A softmax activation function which outputs are the $P(y_c | X)$ (multi-class problem)\n",
        "\n",
        "\n",
        "As previsously, we investigate the data, display some samples, and we carry out some pre-processing."
      ]
    },
    {
      "cell_type": "markdown",
      "metadata": {
        "id": "1fnyiIdsoYzS"
      },
      "source": [
        "### Import data"
      ]
    },
    {
      "cell_type": "code",
      "metadata": {
        "id": "ldCeqiu0Vdcg",
        "colab": {
          "base_uri": "https://localhost:8080/"
        },
        "outputId": "f7eda190-ae6a-4ec5-d425-42212011081a"
      },
      "source": [
        "from tensorflow.keras.datasets import cifar10\n",
        "(X_train, Y_train_scalar), (X_test, Y_test_scalar) = cifar10.load_data()\n",
        "\n",
        "print(\"Train data shape : \", X_train.shape)\n",
        "print(\"Test data shape : \", X_test.shape)\n",
        "print(\"Number of data categories : \", np.unique(Y_train_scalar))"
      ],
      "execution_count": 22,
      "outputs": [
        {
          "output_type": "stream",
          "name": "stdout",
          "text": [
            "Downloading data from https://www.cs.toronto.edu/~kriz/cifar-10-python.tar.gz\n",
            "170500096/170498071 [==============================] - 6s 0us/step\n",
            "170508288/170498071 [==============================] - 6s 0us/step\n",
            "Train data shape :  (50000, 32, 32, 3)\n",
            "Test data shape :  (10000, 32, 32, 3)\n",
            "Number of data categories :  [0 1 2 3 4 5 6 7 8 9]\n"
          ]
        }
      ]
    },
    {
      "cell_type": "markdown",
      "metadata": {
        "id": "FmE6agVqVdcj"
      },
      "source": [
        "The CIFAR-10 dataset has 10 classes. These are the following :"
      ]
    },
    {
      "cell_type": "code",
      "metadata": {
        "id": "DeuLaea5Vdcj"
      },
      "source": [
        "cifar_10_list = [ 'airplane', 'automobile','bird','cat','deer','dog','frog','horse','ship','truck']"
      ],
      "execution_count": 23,
      "outputs": []
    },
    {
      "cell_type": "markdown",
      "metadata": {
        "id": "yF_wRtfNVdcm"
      },
      "source": [
        "### Display some of the images"
      ]
    },
    {
      "cell_type": "code",
      "metadata": {
        "id": "WB6nQcjAVdcm",
        "colab": {
          "base_uri": "https://localhost:8080/",
          "height": 338
        },
        "outputId": "a4a5a2d3-7366-4f76-ad0c-64eae9ace2ce"
      },
      "source": [
        "plt.figure(figsize=(10, 6))\n",
        "for idx,i in enumerate(range(100,110)):\n",
        "    plt.subplot(2, 5, idx+1)\n",
        "    plt.imshow(X_train[i, :, :, :])\n",
        "    plt.title(cifar_10_list[int(Y_train_scalar[i])])"
      ],
      "execution_count": 24,
      "outputs": [
        {
          "output_type": "display_data",
          "data": {
            "image/png": "[encoded data removed]",
            "text/plain": [
              "<Figure size 720x432 with 10 Axes>"
            ]
          },
          "metadata": {
            "needs_background": "light"
          }
        }
      ]
    },
    {
      "cell_type": "markdown",
      "metadata": {
        "id": "ZPtW0s-pVdcp"
      },
      "source": [
        "As you can see, the images are in quite small resolution. This makes them more easy to handle computationally, however it also means that they are quite difficult to analyse, even for a human being. Therefore, __you might not get that great accuracy scores__. The goal is not to get great scores (this would take longer training and potentially a larger network)."
      ]
    },
    {
      "cell_type": "markdown",
      "metadata": {
        "id": "JvNQiBcsVdcp"
      },
      "source": [
        "## Format conversion"
      ]
    },
    {
      "cell_type": "code",
      "metadata": {
        "id": "NLf4-_eQVdcq",
        "colab": {
          "base_uri": "https://localhost:8080/"
        },
        "outputId": "e389bee1-4943-4751-dd4b-2b7dda7d3cfe"
      },
      "source": [
        "# input image dimensions\n",
        "img_rows, img_cols, nb_channels = 32, 32, 3\n",
        "nb_classes = 10\n",
        "\n",
        "# In case depth is 1 (black and white pictures) -> reshape to proper format\n",
        "X_train = X_train.reshape(X_train.shape[0], img_rows, img_cols, nb_channels)\n",
        "X_test = X_test.reshape(X_test.shape[0], img_rows, img_cols, nb_channels)\n",
        "\n",
        "X_train = X_train.astype('float32')\n",
        "X_test = X_test.astype('float32')\n",
        "X_train /= 255\n",
        "X_test /= 255\n",
        "\n",
        "# convert to one-hot encoding\n",
        "Y_train = to_categorical(Y_train_scalar)\n",
        "Y_test = to_categorical(Y_test_scalar)\n",
        "\n",
        "print('X_train shape:', X_train.shape)\n",
        "print('Y_train_scalar shape:', Y_train_scalar.shape)\n",
        "print('Y_train shape (one hot encoding):', Y_train.shape)\n",
        "print('There is {} train data'.format(X_train.shape[0]))\n",
        "print('There is {} test data'.format(X_test.shape[0]))\n",
        "print(img_rows, img_cols, nb_channels)"
      ],
      "execution_count": 25,
      "outputs": [
        {
          "output_type": "stream",
          "name": "stdout",
          "text": [
            "X_train shape: (50000, 32, 32, 3)\n",
            "Y_train_scalar shape: (50000, 1)\n",
            "Y_train shape (one hot encoding): (50000, 10)\n",
            "There is 50000 train data\n",
            "There is 10000 test data\n",
            "32 32 3\n"
          ]
        }
      ]
    },
    {
      "cell_type": "markdown",
      "metadata": {
        "id": "cIJggytbVdcs"
      },
      "source": [
        "For computational reasons, we are going to reduce the amount of training data :"
      ]
    },
    {
      "cell_type": "code",
      "metadata": {
        "id": "ml557ypyVdcs",
        "colab": {
          "base_uri": "https://localhost:8080/"
        },
        "outputId": "d34b0b3f-f38d-43d3-8755-24b3fcf18a3a"
      },
      "source": [
        "n_train_samples = 10000\n",
        "X_train = X_train[0:n_train_samples,:,:,:]\n",
        "Y_train = Y_train[0:n_train_samples,:]\n",
        "print(X_train.shape)\n",
        "print(Y_train.shape)"
      ],
      "execution_count": 26,
      "outputs": [
        {
          "output_type": "stream",
          "name": "stdout",
          "text": [
            "(10000, 32, 32, 3)\n",
            "(10000, 10)\n"
          ]
        }
      ]
    },
    {
      "cell_type": "markdown",
      "metadata": {
        "id": "VhYIugXfVdcv"
      },
      "source": [
        "\n",
        "\n",
        "We are now going to create the model described just above, and train it on the previously loaded CIFAR dataset.\n",
        "\n",
        "## We define the parameters of the model, and of the training"
      ]
    },
    {
      "cell_type": "code",
      "metadata": {
        "id": "3CR4DnDfVdcw"
      },
      "source": [
        "\n",
        "learning_rate = 0.01\n",
        "n_epochs = 20\n",
        "batch_size = 64\n",
        "# number of convolutional filters to use\n",
        "nb_filters = 32 \n",
        "\n",
        "# convolution kernel size\n",
        "kernel_size = (3, 3)\n",
        "# size of pooling area for max pooling\n",
        "pool_size = (2, 2)\n",
        "\n",
        "\n",
        "# --- Size of the successice layers\n",
        "n_h_0 = nb_channels\n",
        "n_h_1 = nb_filters\n",
        "n_h_2 = nb_filters\n",
        "n_h_3 = nb_filters\n",
        "\n",
        "input_shape = (img_rows, img_cols, nb_channels)\n"
      ],
      "execution_count": 30,
      "outputs": []
    },
    {
      "cell_type": "markdown",
      "metadata": {
        "id": "xaIkcutSVdcy"
      },
      "source": [
        "Now, define the model :"
      ]
    },
    {
      "cell_type": "code",
      "metadata": {
        "id": "mVsNB3l-Vdcy"
      },
      "source": [
        "# --- START CODE HERE\n",
        "\n",
        "model = Sequential()\n",
        "\n",
        "model.add(Conv2D(nb_filters, kernel_size, strides=(1,1), padding='same', activation='relu'))\n",
        "\n",
        "model.add(Conv2D(nb_filters, kernel_size, strides=(1,1), padding='same', activation='relu'))\n",
        "model.add(MaxPooling2D(pool_size, strides=(2,2)))\n",
        "\n",
        "model.add(Conv2D(nb_filters, kernel_size, strides=(1,1), padding='same', activation='relu'))\n",
        "model.add(MaxPooling2D(pool_size, strides=(2,2)))\n",
        "\n",
        "model.add(Flatten())\n",
        "model.add(Dense(10, activation='softmax'))\n",
        "\n",
        "\n",
        "# --- END CODE HERE"
      ],
      "execution_count": 31,
      "outputs": []
    },
    {
      "cell_type": "markdown",
      "metadata": {
        "id": "Iq5ZRK_aVdc0"
      },
      "source": [
        "Again, compile, display and train the model"
      ]
    },
    {
      "cell_type": "code",
      "metadata": {
        "id": "gqdIoVk0Vdc1",
        "colab": {
          "base_uri": "https://localhost:8080/"
        },
        "outputId": "cb8085d2-95aa-4f3d-ab27-fedfff8b643e"
      },
      "source": [
        "# START CODE HERE\n",
        "model.compile(optimizer=optimizers.Adam(learning_rate), loss=tf.keras.losses.categorical_crossentropy, metrics=['accuracy'])\n",
        "model.build(X_train.shape)\n",
        "print(model.summary())\n",
        "model.fit(X_train, Y_train, batch_size, epochs=20, validation_data=(X_test, Y_test))\n",
        "# END CODE HERE"
      ],
      "execution_count": 33,
      "outputs": [
        {
          "output_type": "stream",
          "name": "stdout",
          "text": [
            "Model: \"sequential_9\"\n",
            "_________________________________________________________________\n",
            "Layer (type)                 Output Shape              Param #   \n",
            "=================================================================\n",
            "conv2d_15 (Conv2D)           (None, 32, 32, 32)        896       \n",
            "_________________________________________________________________\n",
            "conv2d_16 (Conv2D)           (None, 32, 32, 32)        9248      \n",
            "_________________________________________________________________\n",
            "max_pooling2d_7 (MaxPooling2 (None, 16, 16, 32)        0         \n",
            "_________________________________________________________________\n",
            "conv2d_17 (Conv2D)           (None, 16, 16, 32)        9248      \n",
            "_________________________________________________________________\n",
            "max_pooling2d_8 (MaxPooling2 (None, 8, 8, 32)          0         \n",
            "_________________________________________________________________\n",
            "flatten_6 (Flatten)          (None, 2048)              0         \n",
            "_________________________________________________________________\n",
            "dense_3 (Dense)              (None, 10)                20490     \n",
            "=================================================================\n",
            "Total params: 39,882\n",
            "Trainable params: 39,882\n",
            "Non-trainable params: 0\n",
            "_________________________________________________________________\n",
            "None\n",
            "Epoch 1/20\n",
            "157/157 [==============================] - 3s 17ms/step - loss: 1.4763 - accuracy: 0.4669 - val_loss: 1.5635 - val_accuracy: 0.4328\n",
            "Epoch 2/20\n",
            "157/157 [==============================] - 2s 14ms/step - loss: 1.4587 - accuracy: 0.4743 - val_loss: 1.7367 - val_accuracy: 0.4039\n",
            "Epoch 3/20\n",
            "157/157 [==============================] - 3s 18ms/step - loss: 1.4486 - accuracy: 0.4762 - val_loss: 1.5958 - val_accuracy: 0.4269\n",
            "Epoch 4/20\n",
            "157/157 [==============================] - 2s 14ms/step - loss: 1.4340 - accuracy: 0.4804 - val_loss: 1.6892 - val_accuracy: 0.3927\n",
            "Epoch 5/20\n",
            "157/157 [==============================] - 2s 14ms/step - loss: 1.4272 - accuracy: 0.4821 - val_loss: 1.5950 - val_accuracy: 0.4242\n",
            "Epoch 6/20\n",
            "157/157 [==============================] - 3s 18ms/step - loss: 1.4173 - accuracy: 0.4874 - val_loss: 1.6665 - val_accuracy: 0.4138\n",
            "Epoch 7/20\n",
            "157/157 [==============================] - 2s 14ms/step - loss: 1.4087 - accuracy: 0.4919 - val_loss: 1.5660 - val_accuracy: 0.4367\n",
            "Epoch 8/20\n",
            "157/157 [==============================] - 2s 14ms/step - loss: 1.4019 - accuracy: 0.4924 - val_loss: 1.5816 - val_accuracy: 0.4351\n",
            "Epoch 9/20\n",
            "157/157 [==============================] - 3s 18ms/step - loss: 1.3964 - accuracy: 0.4922 - val_loss: 1.6079 - val_accuracy: 0.4205\n",
            "Epoch 10/20\n",
            "157/157 [==============================] - 3s 18ms/step - loss: 1.3831 - accuracy: 0.5021 - val_loss: 1.6139 - val_accuracy: 0.4275\n",
            "Epoch 11/20\n",
            "157/157 [==============================] - 3s 18ms/step - loss: 1.3674 - accuracy: 0.5045 - val_loss: 1.6095 - val_accuracy: 0.4266\n",
            "Epoch 12/20\n",
            "157/157 [==============================] - 2s 14ms/step - loss: 1.3642 - accuracy: 0.5095 - val_loss: 1.6145 - val_accuracy: 0.4356\n",
            "Epoch 13/20\n",
            "157/157 [==============================] - 2s 14ms/step - loss: 1.3579 - accuracy: 0.5133 - val_loss: 1.6698 - val_accuracy: 0.4117\n",
            "Epoch 14/20\n",
            "157/157 [==============================] - 3s 18ms/step - loss: 1.3693 - accuracy: 0.5083 - val_loss: 1.6799 - val_accuracy: 0.4264\n",
            "Epoch 15/20\n",
            "157/157 [==============================] - 2s 14ms/step - loss: 1.3433 - accuracy: 0.5119 - val_loss: 1.6311 - val_accuracy: 0.4323\n",
            "Epoch 16/20\n",
            "157/157 [==============================] - 3s 18ms/step - loss: 1.3424 - accuracy: 0.5147 - val_loss: 1.6107 - val_accuracy: 0.4327\n",
            "Epoch 17/20\n",
            "157/157 [==============================] - 2s 14ms/step - loss: 1.3292 - accuracy: 0.5221 - val_loss: 1.6242 - val_accuracy: 0.4355\n",
            "Epoch 18/20\n",
            "157/157 [==============================] - 2s 14ms/step - loss: 1.3336 - accuracy: 0.5220 - val_loss: 1.6870 - val_accuracy: 0.4199\n",
            "Epoch 19/20\n",
            "157/157 [==============================] - 2s 14ms/step - loss: 1.3265 - accuracy: 0.5274 - val_loss: 1.8234 - val_accuracy: 0.4171\n",
            "Epoch 20/20\n",
            "157/157 [==============================] - 2s 14ms/step - loss: 1.3185 - accuracy: 0.5243 - val_loss: 1.6413 - val_accuracy: 0.4151\n"
          ]
        },
        {
          "output_type": "execute_result",
          "data": {
            "text/plain": [
              "<keras.callbacks.History at 0x7fa2afd0e210>"
            ]
          },
          "metadata": {},
          "execution_count": 33
        }
      ]
    },
    {
      "cell_type": "markdown",
      "metadata": {
        "id": "26RA5S8nVdc-"
      },
      "source": [
        "Evaluate the performances of the model on the test data\n",
        "\n",
        "\n"
      ]
    },
    {
      "cell_type": "code",
      "metadata": {
        "id": "3K40PBXAVdc_",
        "colab": {
          "base_uri": "https://localhost:8080/"
        },
        "outputId": "1ab42d67-eec4-4a75-b934-d38e8cb44b06"
      },
      "source": [
        "score = model.evaluate(X_test, Y_test, verbose=False)\n",
        "print('Test loss:', score[0])\n",
        "print('Test accuracy:', score[1])"
      ],
      "execution_count": 34,
      "outputs": [
        {
          "output_type": "stream",
          "name": "stdout",
          "text": [
            "Test loss: 1.6412646770477295\n",
            "Test accuracy: 0.41510000824928284\n"
          ]
        }
      ]
    },
    {
      "cell_type": "markdown",
      "metadata": {
        "id": "kLFIFGUGW7MB"
      },
      "source": [
        "The train accuracy after 20 epochs should be around 0.4-0.5 (on the test data).\n",
        "\n",
        "I guess you may be thinking \"0.5, that's not very good, what's the deal ? I am pretty disappointed\". Some of you may have even found accuracies much lower, depending on your luck with the initialisation.\n",
        "\n",
        "Well 0.5 is not great, its true, but it's not that bad considering there are 10 categories. A random choice would give an accuracy of 0.1. However, there are several points to consider here :\n",
        "\n",
        "- The data is more complex than that of mnist for example : there are a lot more variations of \"dog\"s than \"1\"s. Therefore, the network has to be larger\n",
        "- The resolution is  32$\\times$32, therefore even for humans it is difficult to recognise some of the images\n",
        "- Unfortunately, when we start dealing with larger networks, the possibilities for falling into local minima become more and more present. There is no way around this more the moment, due to lack of theoretical understanding. If you do have an idea of how to do this, please email me and we will most likely become very rich.\n",
        "\n"
      ]
    },
    {
      "cell_type": "markdown",
      "metadata": {
        "id": "VrDkWLFhVddB"
      },
      "source": [
        "### Inspecting the network's results\n",
        "\n",
        "Let's take a look at what the network has learned. What do you think ?"
      ]
    },
    {
      "cell_type": "code",
      "metadata": {
        "id": "GD3n19mPVddB",
        "colab": {
          "base_uri": "https://localhost:8080/",
          "height": 338
        },
        "outputId": "dccad4ae-8cec-4e5c-82ae-2c94fa9c5705"
      },
      "source": [
        "plt.figure(figsize=(10, 6))\n",
        "for idx,i in enumerate(range(100,110)):\n",
        "    plt.subplot(2, 5, idx+1)\n",
        "    rand_ind = np.random.randint(0,X_test.shape[0])\n",
        "    predicted_class = np.argmax(np.squeeze(model.predict(np.expand_dims(X_test[rand_ind,:,:,:],axis=0)))) # FILL IN CODE\n",
        "    plt.imshow(X_test[rand_ind,:,:,:])\n",
        "    plt.title(cifar_10_list[int(predicted_class)])"
      ],
      "execution_count": 35,
      "outputs": [
        {
          "output_type": "display_data",
          "data": {
            "image/png": "[encoded data removed]",
            "text/plain": [
              "<Figure size 720x432 with 10 Axes>"
            ]
          },
          "metadata": {
            "needs_background": "light"
          }
        }
      ]
    },
    {
      "cell_type": "markdown",
      "metadata": {
        "id": "BTy-bx9dVddD"
      },
      "source": [
        "## Exploring the model\n",
        "\n",
        "You might want to look around inside the network to see what convolutional filters have been learned.\n",
        "\n",
        "You can explore the network parameters (relatively) easily with Keras. For example ```model.layers``` is a list of the layers of the network. Each element of the network contains the information necessary for this layer. To show the content of a layer i, you can type :\n",
        "\n",
        "```dir(model.layers[i])```\n",
        "\n",
        "Let us try to inspect the weights (parameters) of the convolutional network. You can do this in a similar fashion to the way you did this in the RNN lab work (when you displayed the embedding matrix), using :\n",
        "\n",
        "- layers\n",
        "- get_weights()\n",
        "\n",
        "Now, display below all the filter weights of the first layer as images (plt.imshow). Suggestion: just show the grayscale images of the first channel for better viewing (but if you show all the RGB channels, this is acceptable too)."
      ]
    },
    {
      "cell_type": "code",
      "metadata": {
        "id": "STEbiT8TVddE",
        "colab": {
          "base_uri": "https://localhost:8080/",
          "height": 425
        },
        "outputId": "da52fe5f-9ddf-4dfc-ba8e-14323aa96a48"
      },
      "source": [
        "def rgb2gray(rgb):\n",
        "  #converts from rgb to gray to show the images\n",
        "    return np.dot(rgb[:3,...], [0.2989, 0.5870, 0.1140])\n",
        "\n",
        "print(model.layers[0].filters)\n",
        "print(model.layers[0].kernel_size)\n",
        "print(model.layers[0].get_weights()[0].shape)\n",
        "plt.figure(figsize=(10, 6))\n",
        "for num in range(0,32):\n",
        "    plt.subplot(8, 4, num+1)\n",
        "    plt.imshow(model.layers[0].get_weights()[0][:,:,0,num], cmap='gray') # FILL IN CODE"
      ],
      "execution_count": 45,
      "outputs": [
        {
          "output_type": "stream",
          "name": "stdout",
          "text": [
            "32\n",
            "(3, 3)\n",
            "(3, 3, 3, 32)\n"
          ]
        },
        {
          "output_type": "display_data",
          "data": {
            "image/png": "[encoded data removed]",
            "text/plain": [
              "<Figure size 720x432 with 32 Axes>"
            ]
          },
          "metadata": {
            "needs_background": "light"
          }
        }
      ]
    },
    {
      "cell_type": "markdown",
      "metadata": {
        "id": "J9t1RMsyaZfy"
      },
      "source": [
        "What do you think ? Pretty incomprehensible no ? Do not spend too long trying to interpret these filters, that way madness lies. Indeed, they say that you can find some researchers locked in their offices staring at convolutional filters, trying to find some semblance of meaning ...\n",
        "\n",
        "So, it seems that understanding a CNN by just looking at the filters is an exercise in futility. How can we do better ? Well, take a look at part 2 of the lab !"
      ]
    },
    {
      "cell_type": "markdown",
      "metadata": {
        "id": "btp5WgPWVddF"
      },
      "source": [
        "# Evaluation\n",
        "\n",
        "To evaluate the work, you should rate the code for \n",
        "- 1) MNIST : Defining the first model : 3 points\n",
        "- 2) MNIST : Compiling and training the first model : 1 point\n",
        "- 3) CIFAR10 : Defining the second model : 3 points\n",
        "- 4) CIFAR10 : Compiling and training the first model : 1 point\n",
        "- 5) Calculating ```predicted_class``` : 1 point\n",
        "- 6) Correctly visualising the weights : 1 point\n",
        "\n",
        "\n",
        "Total over 10 points. For the questions with three points :\n",
        "- 1 point if partially correct\n",
        "- 2 points if correct code but does not give the expected results or if the code does not compile. Be careful, sometimes the training might get stuck quickly by bad luck : restart the code a few times to make sure it is indeed a bug.\n",
        "- 3 points for correct code and correct execution"
      ]
    },
    {
      "cell_type": "code",
      "metadata": {
        "id": "IXq3GF_WPubU"
      },
      "source": [
        ""
      ],
      "execution_count": null,
      "outputs": []
    }
  ]
}