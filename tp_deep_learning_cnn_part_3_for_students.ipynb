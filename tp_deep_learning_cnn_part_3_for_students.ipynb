{
  "nbformat": 4,
  "nbformat_minor": 0,
  "metadata": {
    "colab": {
      "name": "tp_deep_learning_cnn_part_3_for_students.ipynb",
      "provenance": [],
      "collapsed_sections": []
    },
    "kernelspec": {
      "name": "python3",
      "display_name": "Python 3"
    },
    "language_info": {
      "name": "python"
    },
    "accelerator": "GPU"
  },
  "cells": [
    {
      "cell_type": "markdown",
      "metadata": {
        "id": "mPf2yufekv0f"
      },
      "source": [
        "\n",
        "# TP CNN, part 3 : super-resolution\n",
        "\n",
        "Author : Alasdair Newson\n",
        "alasdair.newson@telecom-paris.fr\n",
        " \n",
        "## Objective:\n",
        "\n",
        "We want to implement a Convolutional Neural Network (CNN) to do image super-resolution.\n",
        "\n",
        "## Image super-resolution:\n",
        "\n",
        "The super-resolution problem can be summarised as follows. We have an image as an input, which is defined over a grid $\\{0,1,\\dots, m-1\\} \\times \\{0,1,\\dots, n-1\\}$. We define a factor $\\delta$, by which we upsample the image. The output of the super-resolution is an image defined on the grid $\\{0,\\frac{1}{\\delta},\\dots, m-1\\} \\times \\{0,\\frac{1}{\\delta},\\dots, n-1\\}$.\n",
        "\n",
        "## Model\n",
        "\n",
        "In this part of the TP, you have complete freedom to create any model you want, as long as the input is an image, and the output is also an image of size $\\delta m \\times \\delta n$. You will have to choose the architecture and loss which seems reasonable to you.\n",
        "\n",
        "To help you, here is a function to upsample images in neural networks :\n",
        "\n",
        "- ```from tensorflow.keras.layers import UpSampling2D```\n",
        "\n",
        "Of course, you can use any upsampling layer you wish. \n",
        "\n",
        "## Dataset\n",
        "\n",
        "We will be using the mnist dataset for this part. This is to ensure that you can obtain good results. The input data should be the subsampled version of the mnist images, subsampled by taking one out of every $\\delta$ pixels. The output data should be the normal-resolution mnist images.\n",
        "\n",
        "__IMPORTANT NOTES:__\n",
        "- Think carefully about what the training data and labels are in this case, and create them accordingly\n",
        "- We will use ```n_max=5000``` to limit the number of datapoints (as in part 1) to go faster\n",
        "- We set $\\delta$ to 2 in this TP, because it is not too difficult to create a network that works with this factor. If you change it, it might be more difficult to create a satisfactory network.\n",
        "\n",
        "# Your task:\n",
        "You have to load the mnist data (see the first part of the TP), create the model, train it, and evaluate and display the results.\n",
        "\n",
        "We have created a function ```super_res_interpolate```, which carries out super-resolution using basic interpolation (bilinear or bicubic), with which you can compare your results visually and numerically.\n",
        "\n"
      ]
    },
    {
      "cell_type": "code",
      "metadata": {
        "id": "5utO2_UDyKs3",
        "colab": {
          "base_uri": "https://localhost:8080/"
        },
        "outputId": "3118a9df-cb64-4a25-d3c1-5b49dd6f1428"
      },
      "source": [
        "\n",
        "# # Load packages\n",
        "\n",
        "%matplotlib inline\n",
        "import matplotlib.pyplot as plt\n",
        "import numpy as np\n",
        "\n",
        "import tensorflow as tf\n",
        "from tensorflow.keras.utils import to_categorical\n",
        "\n",
        "from tensorflow.keras.models import Sequential, Model\n",
        "from tensorflow.keras.layers import Dense, Dropout, Activation, Flatten, Input\n",
        "from tensorflow.keras.layers import Conv2D, MaxPooling2D, UpSampling2D\n",
        "from tensorflow.keras import optimizers\n",
        "from scipy import interpolate\n",
        "print(tf.keras.__version__)"
      ],
      "execution_count": 1,
      "outputs": [
        {
          "output_type": "stream",
          "name": "stdout",
          "text": [
            "2.6.0\n"
          ]
        }
      ]
    },
    {
      "cell_type": "markdown",
      "metadata": {
        "id": "mcXyExW4vgmk"
      },
      "source": [
        "This next cell is the only code you are given to carry out the TP. This function carries out a bilinear upsampling, with which you can compare your super-resolution. This function is __not__ supposed to be used by you in your network."
      ]
    },
    {
      "cell_type": "code",
      "metadata": {
        "id": "np3Dj3tuqEqn"
      },
      "source": [
        "# choice of the interpolation method\n",
        "interp_method = 'linear'\n",
        "# upsampling factor\n",
        "delta = 2\n",
        "# the maximum number of data to take from mnist (to go a bit faster)\n",
        "n_max = 5000\n",
        "\n",
        "# upsample by a factor of delta\n",
        "# by definition, the new grid has a step size of 1/delta\n",
        "def super_res_interpolate(imgs_in,delta,interp_method = 'linear'):\n",
        "\timgs_out = tf.image.resize( tf.constant(imgs_in),\\\n",
        "\t\t[delta*imgs_in.shape[1],delta*imgs_in.shape[2]], method='bilinear').numpy()\n",
        "\n",
        "\treturn(imgs_out)\n"
      ],
      "execution_count": 2,
      "outputs": []
    },
    {
      "cell_type": "markdown",
      "metadata": {
        "id": "vLGjn0zP5h0V"
      },
      "source": [
        "## Create your super-resolution network\n",
        "\n",
        "The rest is up to you ! Import the data, format it (you can use the first part of the TP as help), create your network, train it, and compare the results with ```super_res_interpolate```.\n",
        "\n",
        "Your network should be able to achieve about $80\\%$ accuracy.\n",
        "\n",
        "__Note__ you can obviously create as many cells as you like in your work."
      ]
    },
    {
      "cell_type": "code",
      "metadata": {
        "id": "Hfx5BxeUqKf-",
        "colab": {
          "base_uri": "https://localhost:8080/"
        },
        "outputId": "709657aa-2d12-4c25-b5d4-f1d8ced38ad4"
      },
      "source": [
        "# Load data\n",
        "from keras.datasets import mnist\n",
        "(X_train, Y_train_scalar), (X_test, Y_test_scalar) = mnist.load_data()\n",
        "\n",
        "n_max = 5000\n",
        "X_train = X_train[0:n_max,:,:]\n",
        "X_test = X_test[0:n_max,:,:]\n",
        "Y_train_scalar = Y_train_scalar[0:n_max]\n",
        "Y_test_scalar = Y_test_scalar[0:n_max]\n",
        "\n",
        "mnist_label_list = [ '0', '1','2','3','4','5','6','7','8','9']\n",
        "\n",
        "print(X_train.shape)\n",
        "print(X_test.shape)\n",
        "print(np.unique(Y_test_scalar))"
      ],
      "execution_count": 3,
      "outputs": [
        {
          "output_type": "stream",
          "name": "stdout",
          "text": [
            "Downloading data from https://storage.googleapis.com/tensorflow/tf-keras-datasets/mnist.npz\n",
            "11493376/11490434 [==============================] - 0s 0us/step\n",
            "11501568/11490434 [==============================] - 0s 0us/step\n",
            "(5000, 28, 28)\n",
            "(5000, 28, 28)\n",
            "[0 1 2 3 4 5 6 7 8 9]\n"
          ]
        }
      ]
    },
    {
      "cell_type": "code",
      "metadata": {
        "colab": {
          "base_uri": "https://localhost:8080/"
        },
        "id": "TaIzVzefjdBZ",
        "outputId": "3c0fd0bf-12ac-45e5-f1f9-9252906bc845"
      },
      "source": [
        "# Format the data\n",
        "# input image dimensions (mnist data is grey-level)\n",
        "img_rows, img_cols, nb_channels = X_train.shape[1], X_train.shape[2], 1\n",
        "\n",
        "# In case depth is 1 (black and white pictures) -> reshape to proper format\n",
        "X_train = X_train.reshape(X_train.shape[0], img_rows, img_cols, nb_channels)\n",
        "X_test = X_test.reshape(X_test.shape[0], img_rows, img_cols, nb_channels)\n",
        "\n",
        "X_train = X_train.astype('float32')\n",
        "X_test = X_test.astype('float32')\n",
        "X_train /= 255\n",
        "X_test /= 255\n",
        "\n",
        "Y_train = X_train\n",
        "Y_test = X_test\n",
        "\n",
        "X_train = X_train[:, ::2, ::2, :]\n",
        "X_test = X_test[:, ::2, ::2, :]\n",
        "\n",
        "\n",
        "# number of classes\n",
        "nb_classes = Y_train.shape[1]\n",
        "\n",
        "print('X_train shape:', X_train.shape)\n",
        "print('Y_train shape:', Y_train.shape)\n",
        "print('There are {} train data'.format(X_train.shape[0]))\n",
        "print('There are {} test data'.format(X_test.shape[0]))\n",
        "print(img_rows, img_cols, nb_channels)\n"
      ],
      "execution_count": 4,
      "outputs": [
        {
          "output_type": "stream",
          "name": "stdout",
          "text": [
            "X_train shape: (5000, 14, 14, 1)\n",
            "Y_train shape: (5000, 28, 28, 1)\n",
            "There are 5000 train data\n",
            "There are 5000 test data\n",
            "28 28 1\n"
          ]
        }
      ]
    },
    {
      "cell_type": "code",
      "metadata": {
        "id": "Mh8o6l6slHt9"
      },
      "source": [
        "# number of convolutional filters to use\n",
        "nb_filters = 32\n",
        "# convolution kernel size\n",
        "kernel_size = (3, 3)\n",
        "\n",
        "model = Sequential()\n",
        "model.add(Conv2D(nb_filters, kernel_size, strides=(1,1), padding='same', activation='relu'))\n",
        "model.add(UpSampling2D(size=(delta, delta), interpolation='bilinear'))\n",
        "model.add(Conv2D(1, kernel_size, strides=(1,1), padding='same', activation='sigmoid'))\n",
        "\n"
      ],
      "execution_count": 5,
      "outputs": []
    },
    {
      "cell_type": "code",
      "metadata": {
        "colab": {
          "base_uri": "https://localhost:8080/"
        },
        "id": "wF29Q8jvoT-A",
        "outputId": "289b07cf-15d7-467a-fa94-59827cd73e4f"
      },
      "source": [
        "learning_rate = 0.01\n",
        "n_epochs = 10\n",
        "batch_size = 64\n",
        "\n",
        "# compile, train and evaluate model\n",
        "model.compile(optimizer=optimizers.Adam(learning_rate), loss=tf.keras.losses.mean_squared_error, metrics=['accuracy'])\n",
        "model.build(input_shape=X_train.shape)\n",
        "print(model.summary())\n",
        "\n"
      ],
      "execution_count": 6,
      "outputs": [
        {
          "output_type": "stream",
          "name": "stdout",
          "text": [
            "Model: \"sequential\"\n",
            "_________________________________________________________________\n",
            "Layer (type)                 Output Shape              Param #   \n",
            "=================================================================\n",
            "conv2d (Conv2D)              (5000, 14, 14, 32)        320       \n",
            "_________________________________________________________________\n",
            "up_sampling2d (UpSampling2D) (5000, 28, 28, 32)        0         \n",
            "_________________________________________________________________\n",
            "conv2d_1 (Conv2D)            (5000, 28, 28, 1)         289       \n",
            "=================================================================\n",
            "Total params: 609\n",
            "Trainable params: 609\n",
            "Non-trainable params: 0\n",
            "_________________________________________________________________\n",
            "None\n"
          ]
        }
      ]
    },
    {
      "cell_type": "code",
      "metadata": {
        "colab": {
          "base_uri": "https://localhost:8080/"
        },
        "id": "gjldHq2h8HMk",
        "outputId": "312fed22-75e0-493f-bd47-401fadbf16b4"
      },
      "source": [
        "model.fit(X_train, Y_train, batch_size, epochs=10, use_multiprocessing=True)\n",
        "\n",
        "score = model.evaluate(X_test, Y_test, verbose=False)\n",
        "print('Test loss:', score[0])\n",
        "print('Test accuracy:', score[1])"
      ],
      "execution_count": 7,
      "outputs": [
        {
          "output_type": "stream",
          "name": "stdout",
          "text": [
            "Epoch 1/10\n",
            "79/79 [==============================] - 7s 81ms/step - loss: 0.0299 - accuracy: 0.8103\n",
            "Epoch 2/10\n",
            "79/79 [==============================] - 6s 81ms/step - loss: 0.0080 - accuracy: 0.8138\n",
            "Epoch 3/10\n",
            "79/79 [==============================] - 6s 81ms/step - loss: 0.0077 - accuracy: 0.8138\n",
            "Epoch 4/10\n",
            "79/79 [==============================] - 6s 82ms/step - loss: 0.0075 - accuracy: 0.8139\n",
            "Epoch 5/10\n",
            "79/79 [==============================] - 6s 81ms/step - loss: 0.0074 - accuracy: 0.8140\n",
            "Epoch 6/10\n",
            "79/79 [==============================] - 6s 81ms/step - loss: 0.0073 - accuracy: 0.8140\n",
            "Epoch 7/10\n",
            "79/79 [==============================] - 6s 81ms/step - loss: 0.0071 - accuracy: 0.8141\n",
            "Epoch 8/10\n",
            "79/79 [==============================] - 7s 83ms/step - loss: 0.0070 - accuracy: 0.8141\n",
            "Epoch 9/10\n",
            "79/79 [==============================] - 6s 82ms/step - loss: 0.0068 - accuracy: 0.8141\n",
            "Epoch 10/10\n",
            "79/79 [==============================] - 6s 81ms/step - loss: 0.0067 - accuracy: 0.8142\n",
            "Test loss: 0.007130993530154228\n",
            "Test accuracy: 0.8225219249725342\n"
          ]
        }
      ]
    },
    {
      "cell_type": "code",
      "metadata": {
        "colab": {
          "base_uri": "https://localhost:8080/",
          "height": 465
        },
        "id": "dGdwXsZL5Dfa",
        "outputId": "69ed0007-3145-4159-9c01-c280a6576114"
      },
      "source": [
        "plt.figure(figsize=(20, 8))\n",
        "for idx in range(0, 10):\n",
        "    rand_ind = np.random.randint(0, X_train.shape[0])\n",
        "\n",
        "    plt.subplot(3, 10, idx+1)\n",
        "    plt.imshow(X_test[rand_ind, :, :, 0], cmap='gray')\n",
        "    plt.title(mnist_label_list[int(Y_test_scalar[rand_ind])] + \": truth\")\n",
        "\n",
        "    plt.subplot(3, 10, idx+1+10)\n",
        "    plt.imshow(model(np.expand_dims(X_test[rand_ind, :, :, :], axis=0))[\n",
        "               0, :, :, 0], cmap='gray')\n",
        "    plt.title(mnist_label_list[int(Y_test_scalar[rand_ind])] + \": network\")\n",
        "\n",
        "    plt.subplot(3, 10, idx+1+20)\n",
        "    plt.imshow(super_res_interpolate(np.expand_dims(\n",
        "        X_test[rand_ind, :, :], axis=0), delta)[0, :, :, 0], cmap='gray')\n",
        "    plt.title(mnist_label_list[int(Y_test_scalar[rand_ind])] + \": bilinear\")"
      ],
      "execution_count": 8,
      "outputs": [
        {
          "output_type": "display_data",
          "data": {
            "image/png": "[encoded data removed]",
            "text/plain": [
              "<Figure size 1440x576 with 30 Axes>"
            ]
          },
          "metadata": {
            "needs_background": "light"
          }
        }
      ]
    },
    {
      "cell_type": "markdown",
      "metadata": {
        "id": "nssRP8NRAQtA"
      },
      "source": [
        "# Evaluation\n",
        "\n",
        "To evaluate the work, you should rate the code for \n",
        "- 1) Importing MNIST correctly (correctly formatting the data) : 1 point\n",
        "- 2) Creating a model which makes sense (correct input/output sizes) : 1 point\n",
        "- 3) Training and achieving good results  : 2 points. 1 point if the learning increases but does not reach around $80\\%$, 2 points if the learning reaches around $80\\%$\n",
        "- 4) Display a visual comparison of your network with ```super_res_interpolate``` for several examples\n",
        "\n",
        "Total over 5 points.\n"
      ]
    }
  ]
}